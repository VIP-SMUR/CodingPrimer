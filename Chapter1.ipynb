{
 "cells": [
  {
   "cell_type": "markdown",
   "metadata": {},
   "source": [
    "Welcome to the Python Workshop!\n",
    "This workshop is for anyone who’s new to Python or programming in general. Whether you have little or no experience, we’re here to help you get started with the basics and build up to working with powerful tools like pandas and numpy.\n",
    "\n",
    "This is completely optional and can be looked over at your own pace. That said, we highly encourage you to try them out, as these tools will be super helpful when we tackle real-world challenges in our projects.\n",
    "\n",
    "Here’s what we’ll cover in this workshop:\n",
    "\n",
    "-   What is Python?\n",
    "<br>\n",
    "-   Variables\n",
    "<br>\n",
    "-   Operators\n",
    "<br>\n",
    "-   Strings\n",
    "<br>\n",
    "-   Lists\n",
    "<br>\n",
    "-   Tuples\n",
    "<br>\n",
    "-   Sets\n",
    "<br>\n",
    "-   Dictionaries\n",
    "<br>\n",
    "-   Input and Output"
   ]
  },
  {
   "cell_type": "markdown",
   "metadata": {},
   "source": [
    "![alt text](<Screenshot 2025-01-14 102357.png>)"
   ]
  },
  {
   "cell_type": "markdown",
   "metadata": {},
   "source": [
    "Let’s start with the big question: What is Python?\n",
    "Python is a high-level, interpreted programming language. In simpler terms, it’s a tool that helps us solve complex problems efficiently. Python stands out because it’s easy to read and understand, and it comes with a huge library of pre-written code to make your life easier. Python is an extremely versatile language. It can be used for data analytics, web development, machine learning, and tons more, which is why it's a great tool to have down.\n",
    "\n",
    "<br>\n",
    "First steps: Let’s print something!\n",
    "In programming, one of the first things we learn is how to display messages. In Python, we use the print() function. When you type print() with a quoted message inside, Python will display it for you. Give it a try in the next cell and see what happens!"
   ]
  },
  {
   "cell_type": "code",
   "execution_count": null,
   "metadata": {},
   "outputs": [],
   "source": [
    "print(\"Hello World\")"
   ]
  },
  {
   "cell_type": "markdown",
   "metadata": {},
   "source": [
    "Try replacing the message inside the quotes with your own text and run the cell!"
   ]
  },
  {
   "cell_type": "code",
   "execution_count": null,
   "metadata": {},
   "outputs": [],
   "source": [
    "print(\"Hello SMUR SP24!\")"
   ]
  },
  {
   "cell_type": "markdown",
   "metadata": {},
   "source": [
    "**Variables** are containers for storing data values, just like in mathematics.\n",
    "\n",
    "variable_name = value"
   ]
  },
  {
   "cell_type": "code",
   "execution_count": 7,
   "metadata": {},
   "outputs": [],
   "source": [
    "name = \"Ze\"\n",
    "age = 21\n",
    "height = 5.83"
   ]
  },
  {
   "cell_type": "markdown",
   "metadata": {},
   "source": [
    "There are restrictions when naming a variable. Variable names can only contain letters, digits and underscores (_). A variable name cannot start with a digit. Variable names are case-sensitive (myVar and myvar are different). Avoid using Python keywords (e.g., if, else, for) as variable names.\n",
    "\n",
    "**Examples**\n",
    "<br>\n",
    "\"2myVar\"  (starts with a number),\n",
    "<br>\n",
    "\"my-var\"  (contains a hyphen)\n",
    "<br>\n",
    "\"my var\"  (contains a space)\n",
    "<br>\n",
    "\"class\"   (a reserved keyword)\n",
    "<br>\n",
    "\"result@\" (contains a special character)\n",
    "<br>\n",
    "\n",
    "In general, try to keep the name of your variable relevant to what it's used for to avoid confusion.\n",
    "<br>\n",
    "<br>\n",
    "<br>"
   ]
  },
  {
   "cell_type": "markdown",
   "metadata": {},
   "source": [
    "Programming Languages can be classified by their type of execution. Python, in particular, is an interpreted language. This means that the code is read line by line by the interpreter and are executed at runtime. "
   ]
  },
  {
   "cell_type": "markdown",
   "metadata": {},
   "source": [
    "![alt text](1_gdjRHxObwCQyymI8w6hnsg.png)"
   ]
  },
  {
   "cell_type": "markdown",
   "metadata": {},
   "source": [
    "Here, we can see that upon initializing the previous variables, we can still call them afterwards despite them not being in the cell. This also applies to python files, where you can run single lines of code."
   ]
  },
  {
   "cell_type": "code",
   "execution_count": null,
   "metadata": {},
   "outputs": [],
   "source": [
    "print(name, age, height)"
   ]
  },
  {
   "cell_type": "markdown",
   "metadata": {},
   "source": [
    "We classify variables by the type of data value that they hold. Understanding the data types is crucial for writing bug-free and efficient code."
   ]
  },
  {
   "cell_type": "markdown",
   "metadata": {},
   "source": [
    "**Numeric Types**\n",
    "<br>\n",
    "<br>\n",
    "int: integers\n",
    "<br>\n",
    "float: decimals\n",
    "<br>\n",
    "complex: complex numbers"
   ]
  },
  {
   "cell_type": "code",
   "execution_count": null,
   "metadata": {},
   "outputs": [],
   "source": [
    "x = 10      #int\n",
    "y = 3.14    #float\n",
    "z = 3 + 4j  #complex"
   ]
  },
  {
   "cell_type": "markdown",
   "metadata": {},
   "source": [
    "**Sequence Types**\n",
    "<br>\n",
    "<br>\n",
    "character: a single character\n",
    "<br>\n",
    "string: text or array of characters\n",
    "<br>\n",
    "list: ordered, mutable collection\n",
    "<br>\n",
    "tuple: ordered, immutable collection\n",
    "\n",
    "Note: mutability is whether or not you're able to modify the data after you initialize it.\n",
    "<br>\n",
    "In addition, these data types can store not only numericas, but any other types"
   ]
  },
  {
   "cell_type": "code",
   "execution_count": null,
   "metadata": {},
   "outputs": [],
   "source": [
    "char = \"a\"  # character\n",
    "name = \"Ze\"  # string\n",
    "items = [1, 2, 3]  # list\n",
    "coordinates = (10, 20)  # tuple"
   ]
  },
  {
   "cell_type": "markdown",
   "metadata": {},
   "source": [
    "**Set**: Unordered collection of unique items, unlike sequence datatypes. DOES NOT ALLOW Duplicates"
   ]
  },
  {
   "cell_type": "code",
   "execution_count": 12,
   "metadata": {},
   "outputs": [],
   "source": [
    "thisset = {\"apple\", \"banana\", \"cherry\"}"
   ]
  },
  {
   "cell_type": "markdown",
   "metadata": {},
   "source": [
    "**Boolean Types**\n",
    "<br>\n",
    "bool: represents **True** or **False**\n",
    "<br>\n",
    "Note: when setting the value, make sure that the True or False is capitalized"
   ]
  },
  {
   "cell_type": "code",
   "execution_count": null,
   "metadata": {},
   "outputs": [],
   "source": [
    "I_Love_Apples = True\n",
    "I_Hate_Apples = False"
   ]
  },
  {
   "cell_type": "markdown",
   "metadata": {},
   "source": [
    "**None Type**\n",
    "<bs>\n",
    "\n",
    "NoneType: represents the abscence of a value or a null value\n",
    "<bs>\n",
    "\n",
    "Note: make sure None is capitalized"
   ]
  },
  {
   "cell_type": "code",
   "execution_count": null,
   "metadata": {},
   "outputs": [],
   "source": [
    "null = None"
   ]
  },
  {
   "cell_type": "markdown",
   "metadata": {},
   "source": [
    "**Operators** are special symbols or keywords that let us perform operations on variables and values. Think of them as tools that help us calculate, compare, or manipulate data.\n",
    "\n",
    "\n",
    "![alt text](arithmetic_operators.png)\n"
   ]
  },
  {
   "cell_type": "code",
   "execution_count": null,
   "metadata": {},
   "outputs": [],
   "source": [
    "1+1"
   ]
  },
  {
   "cell_type": "code",
   "execution_count": null,
   "metadata": {},
   "outputs": [],
   "source": [
    "2-1"
   ]
  },
  {
   "cell_type": "code",
   "execution_count": null,
   "metadata": {},
   "outputs": [],
   "source": [
    "print('Addition: ', 1 + 2)        # 3\n",
    "print('Subtraction: ', 2 - 1)     # 1\n",
    "print('Multiplication: ', 2 * 3)  # 6\n",
    "print('Division: ', 4 / 2)        # 2.0  Division in Python gives floating number\n",
    "print('Division: ', 6 / 2)        # 3.0         \n",
    "print('Division: ', 7 / 2)        # 3.5\n",
    "print('Division without the remainder: ', 7 // 2)  # 3,  gives without the floating number or without the remaining\n",
    "print('Division without the remainder: ', 7 // 3)  # 2\n",
    "print('Modulus: ', 3 % 2)         # 1, Gives the remainder\n",
    "print('Exponentiation: ', 2 ** 3) # 9 it means 2 * 2 * 2"
   ]
  },
  {
   "cell_type": "markdown",
   "metadata": {},
   "source": [
    "We can perform operations on variables of the correct type."
   ]
  },
  {
   "cell_type": "code",
   "execution_count": null,
   "metadata": {},
   "outputs": [
    {
     "data": {
      "text/plain": [
       "30"
      ]
     },
     "execution_count": 17,
     "metadata": {},
     "output_type": "execute_result"
    }
   ],
   "source": [
    "first_number = 10\n",
    "second_number = 20\n",
    "new_number = first_number + second_number\n",
    "print(new_number)"
   ]
  },
  {
   "cell_type": "code",
   "execution_count": 19,
   "metadata": {},
   "outputs": [
    {
     "ename": "TypeError",
     "evalue": "can only concatenate str (not \"int\") to str",
     "output_type": "error",
     "traceback": [
      "\u001b[1;31m---------------------------------------------------------------------------\u001b[0m",
      "\u001b[1;31mTypeError\u001b[0m                                 Traceback (most recent call last)",
      "Cell \u001b[1;32mIn[19], line 2\u001b[0m\n\u001b[0;32m      1\u001b[0m name \u001b[38;5;241m=\u001b[39m \u001b[38;5;124m\"\u001b[39m\u001b[38;5;124mZe\u001b[39m\u001b[38;5;124m\"\u001b[39m\n\u001b[1;32m----> 2\u001b[0m variable \u001b[38;5;241m=\u001b[39m name \u001b[38;5;241m+\u001b[39m first_number\n",
      "\u001b[1;31mTypeError\u001b[0m: can only concatenate str (not \"int\") to str"
     ]
    }
   ],
   "source": [
    "name = \"Ze\"\n",
    "variable = name + first_number"
   ]
  },
  {
   "cell_type": "markdown",
   "metadata": {},
   "source": [
    "Calling the variable will simply print out its value"
   ]
  },
  {
   "cell_type": "code",
   "execution_count": 18,
   "metadata": {},
   "outputs": [
    {
     "data": {
      "text/plain": [
       "30"
      ]
     },
     "execution_count": 18,
     "metadata": {},
     "output_type": "execute_result"
    }
   ],
   "source": [
    "new_number"
   ]
  },
  {
   "cell_type": "markdown",
   "metadata": {},
   "source": [
    "**Strings** are sequences of characters enclosed in single or double quotes. They are one of the most commonly used data types in Python and support a variety of operations."
   ]
  },
  {
   "cell_type": "code",
   "execution_count": 27,
   "metadata": {},
   "outputs": [
    {
     "data": {
      "text/plain": [
       "'ZeyuJiang'"
      ]
     },
     "execution_count": 27,
     "metadata": {},
     "output_type": "execute_result"
    }
   ],
   "source": [
    "first_name = \"Zeyu\"\n",
    "last_name = \"Jiang\"\n",
    "full_name = first_name + last_name\n",
    "full_name"
   ]
  },
  {
   "cell_type": "markdown",
   "metadata": {},
   "source": [
    "Using an + operator allows us to concatenate strings."
   ]
  },
  {
   "cell_type": "code",
   "execution_count": 28,
   "metadata": {},
   "outputs": [
    {
     "name": "stdout",
     "output_type": "stream",
     "text": [
      "Zeyu Jiang\n"
     ]
    }
   ],
   "source": [
    "print(first_name + \" \" + last_name)"
   ]
  },
  {
   "cell_type": "markdown",
   "metadata": {},
   "source": [
    "Using a * operator allows us to repeat a string."
   ]
  },
  {
   "cell_type": "code",
   "execution_count": null,
   "metadata": {},
   "outputs": [
    {
     "name": "stdout",
     "output_type": "stream",
     "text": [
      "hahaha\n"
     ]
    }
   ],
   "source": [
    "print(\"ha\" * 3)"
   ]
  },
  {
   "cell_type": "markdown",
   "metadata": {},
   "source": [
    "Extract parts of a string with slicing. variable[a,b] ---- a is the start index and b is the end index."
   ]
  },
  {
   "cell_type": "code",
   "execution_count": 30,
   "metadata": {},
   "outputs": [
    {
     "name": "stdout",
     "output_type": "stream",
     "text": [
      "Hel\n",
      "rld\n"
     ]
    }
   ],
   "source": [
    "word = \"Hello World\"\n",
    "print(word[0:3])\n",
    "print(word[-3:])"
   ]
  },
  {
   "cell_type": "markdown",
   "metadata": {},
   "source": [
    "**Useful methods for string:**\n",
    "<br>\n",
    "<br>\n",
    ".lower(): Converts the string to lowercase.\n",
    "<br>\n",
    "<br>\n",
    ".upper(): Converts the string to uppercase.\n",
    "<br>\n",
    "<br>\n",
    ".strip(): Removes leading and trailing spaces.\n",
    "<br>\n",
    "<br>\n",
    ".replace(old, new): Replaces occurrences of a substring.\n",
    "<br>\n",
    "<br>\n",
    ".split(): Splits the string into a list of substrings.\n",
    "<br>\n",
    "<br>"
   ]
  },
  {
   "cell_type": "markdown",
   "metadata": {},
   "source": [
    "**Exercise**\n",
    "Write a simple program for managing a small library system. \n",
    "\n",
    "<br>\n",
    "1. Allow the user to add details of a single book.\n",
    "<br>\n",
    "2. Display the details of the added book..\n",
    "<br>\n",
    "3. Check if a specific genre exists in the library.\n",
    "<br>\n",
    "4. Display all unique genres in the library.\n",
    "<br>\n",
    "\n",
    "\n",
    "**Hints**\n",
    "1. Start by declaring an empty dictionary to hold the library data\n",
    "2. Add a book to the library via user input for its title, author, and genre. A tuple would be a good way to store it\n",
    "3. Display the details of the book added by accessing the dictionary and tuple\n",
    "4. Check if a specific genre that the user inputted exists in the library. Plus, what's a another way we can make sure there are no duplicates?"
   ]
  },
  {
   "cell_type": "code",
   "execution_count": null,
   "metadata": {},
   "outputs": [],
   "source": []
  },
  {
   "cell_type": "code",
   "execution_count": null,
   "metadata": {},
   "outputs": [],
   "source": []
  },
  {
   "cell_type": "code",
   "execution_count": null,
   "metadata": {},
   "outputs": [],
   "source": []
  },
  {
   "cell_type": "code",
   "execution_count": null,
   "metadata": {},
   "outputs": [],
   "source": []
  },
  {
   "cell_type": "code",
   "execution_count": null,
   "metadata": {},
   "outputs": [],
   "source": []
  },
  {
   "cell_type": "code",
   "execution_count": null,
   "metadata": {},
   "outputs": [],
   "source": []
  },
  {
   "cell_type": "code",
   "execution_count": null,
   "metadata": {},
   "outputs": [],
   "source": []
  },
  {
   "cell_type": "code",
   "execution_count": null,
   "metadata": {},
   "outputs": [],
   "source": []
  },
  {
   "cell_type": "markdown",
   "metadata": {},
   "source": [
    "**Solution**"
   ]
  },
  {
   "cell_type": "code",
   "execution_count": null,
   "metadata": {},
   "outputs": [],
   "source": [
    "#Step 1\n",
    "library = {\"books\": []}  # List of tuples for book details\n",
    "\n",
    "#Step 2\n",
    "title = input(\"Enter the book title: \")\n",
    "author = input(\"Enter the author's name: \")\n",
    "genre = input(\"Enter the genre: \")\n",
    "\n",
    "book = (title, author, genre)\n",
    "library[\"books\"].append(book)\n",
    "\n",
    "# Step 3\n",
    "print(\"\\nDetails of the added book:\")\n",
    "print(\"Title:\", library[\"books\"][0][0])\n",
    "print(\"Author:\", library[\"books\"][0][1])\n",
    "print(\"Genre:\", library[\"books\"][0][2])\n",
    "\n",
    "# Step 4\n",
    "genres = {book[2] for book in library[\"books\"]}  # Extract genres into a set\n",
    "search_genre = input(\"\\nEnter a genre to check if it exists in the library: \")\n",
    "genre_exists = search_genre in genres\n",
    "print(\"Genre exists in the library:\", genre_exists)\n",
    "\n",
    "# Step 5\n",
    "print(\"\\nUnique genres in the library:\", genres)\n"
   ]
  }
 ],
 "metadata": {
  "kernelspec": {
   "display_name": "base",
   "language": "python",
   "name": "python3"
  },
  "language_info": {
   "codemirror_mode": {
    "name": "ipython",
    "version": 3
   },
   "file_extension": ".py",
   "mimetype": "text/x-python",
   "name": "python",
   "nbconvert_exporter": "python",
   "pygments_lexer": "ipython3",
   "version": "3.12.4"
  }
 },
 "nbformat": 4,
 "nbformat_minor": 2
}
